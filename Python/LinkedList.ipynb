{
 "cells": [
  {
   "cell_type": "code",
   "execution_count": 8,
   "id": "digital-rolling",
   "metadata": {},
   "outputs": [],
   "source": [
    "def linse(arr, key):\n",
    "    index = 0\n",
    "    while index < len(arr):\n",
    "        if arr[index] == key:\n",
    "            return index\n",
    "        index += 1\n",
    "    return -1\n",
    "            "
   ]
  },
  {
   "cell_type": "code",
   "execution_count": 9,
   "id": "extra-tuner",
   "metadata": {},
   "outputs": [
    {
     "name": "stdout",
     "output_type": "stream",
     "text": [
      "12 45 56 76\n",
      "45\n"
     ]
    },
    {
     "data": {
      "text/plain": [
       "1"
      ]
     },
     "execution_count": 9,
     "metadata": {},
     "output_type": "execute_result"
    }
   ],
   "source": [
    "a = list(map(int,input().split()))\n",
    "key = int(input())\n",
    "linse(a, key)"
   ]
  },
  {
   "cell_type": "code",
   "execution_count": 7,
   "id": "central-picking",
   "metadata": {},
   "outputs": [],
   "source": [
    "# \"12 45 56 76\" --> \"12\",\"45\", \"56\", \"76\" --> [12,45,56,76]"
   ]
  },
  {
   "cell_type": "code",
   "execution_count": 1,
   "id": "interior-picking",
   "metadata": {},
   "outputs": [],
   "source": [
    "def bsearch(arr, k):\n",
    "    l = 0\n",
    "    r = len(arr) - 1\n",
    "    while l <= r:\n",
    "        mid = (l+r) // 2\n",
    "        if key == arr[mid]:\n",
    "            return mid\n",
    "        elif key > arr[mid]:\n",
    "            l = mid + 1\n",
    "        else:\n",
    "            r = mid - 1\n",
    "    return -1"
   ]
  },
  {
   "cell_type": "code",
   "execution_count": 4,
   "id": "frequent-elephant",
   "metadata": {},
   "outputs": [
    {
     "name": "stdout",
     "output_type": "stream",
     "text": [
      "4 8 8 12\n",
      "8\n"
     ]
    },
    {
     "data": {
      "text/plain": [
       "1"
      ]
     },
     "execution_count": 4,
     "metadata": {},
     "output_type": "execute_result"
    }
   ],
   "source": [
    "a = list(map(int,input().split()))\n",
    "key = int(input())\n",
    "bsearch(a, key)"
   ]
  },
  {
   "cell_type": "code",
   "execution_count": 1,
   "id": "superior-tragedy",
   "metadata": {},
   "outputs": [
    {
     "ename": "SyntaxError",
     "evalue": "invalid syntax (<ipython-input-1-7f8565ec119d>, line 1)",
     "output_type": "error",
     "traceback": [
      "\u001b[0;36m  File \u001b[0;32m\"<ipython-input-1-7f8565ec119d>\"\u001b[0;36m, line \u001b[0;32m1\u001b[0m\n\u001b[0;31m    12 43 54 43 -->\u001b[0m\n\u001b[0m        ^\u001b[0m\n\u001b[0;31mSyntaxError\u001b[0m\u001b[0;31m:\u001b[0m invalid syntax\n"
     ]
    }
   ],
   "source": [
    "12 43 54 43 --> "
   ]
  },
  {
   "cell_type": "code",
   "execution_count": 2,
   "id": "light-today",
   "metadata": {},
   "outputs": [
    {
     "ename": "SyntaxError",
     "evalue": "invalid syntax (<ipython-input-2-d38dcdae4ef8>, line 1)",
     "output_type": "error",
     "traceback": [
      "\u001b[0;36m  File \u001b[0;32m\"<ipython-input-2-d38dcdae4ef8>\"\u001b[0;36m, line \u001b[0;32m1\u001b[0m\n\u001b[0;31m    6 4 2 1 5 2 9\u001b[0m\n\u001b[0m      ^\u001b[0m\n\u001b[0;31mSyntaxError\u001b[0m\u001b[0;31m:\u001b[0m invalid syntax\n"
     ]
    }
   ],
   "source": [
    "6 4 2 1 5 2 9"
   ]
  },
  {
   "cell_type": "code",
   "execution_count": 3,
   "id": "correct-verification",
   "metadata": {},
   "outputs": [
    {
     "ename": "SyntaxError",
     "evalue": "invalid syntax (<ipython-input-3-5c9c43e75f61>, line 1)",
     "output_type": "error",
     "traceback": [
      "\u001b[0;36m  File \u001b[0;32m\"<ipython-input-3-5c9c43e75f61>\"\u001b[0;36m, line \u001b[0;32m1\u001b[0m\n\u001b[0;31m    1 2 2 4 5 6 9\u001b[0m\n\u001b[0m      ^\u001b[0m\n\u001b[0;31mSyntaxError\u001b[0m\u001b[0;31m:\u001b[0m invalid syntax\n"
     ]
    }
   ],
   "source": [
    "1 2 2 4 5 6 9"
   ]
  },
  {
   "cell_type": "markdown",
   "id": "latest-champagne",
   "metadata": {},
   "source": [
    "# Selection Sort"
   ]
  },
  {
   "cell_type": "code",
   "execution_count": 4,
   "id": "fitting-criminal",
   "metadata": {},
   "outputs": [
    {
     "ename": "SyntaxError",
     "evalue": "invalid syntax (<ipython-input-4-93b61ba29433>, line 1)",
     "output_type": "error",
     "traceback": [
      "\u001b[0;36m  File \u001b[0;32m\"<ipython-input-4-93b61ba29433>\"\u001b[0;36m, line \u001b[0;32m1\u001b[0m\n\u001b[0;31m    23 27 17 18 11\u001b[0m\n\u001b[0m        ^\u001b[0m\n\u001b[0;31mSyntaxError\u001b[0m\u001b[0;31m:\u001b[0m invalid syntax\n"
     ]
    }
   ],
   "source": [
    "23 27 17 18 11 --> 11 27 17 18 23 --> 11 17 27 18 23 --> 11 17 18 27 23 --> 11 17 18 23 27 (Unstable)"
   ]
  },
  {
   "cell_type": "code",
   "execution_count": 9,
   "id": "domestic-suite",
   "metadata": {},
   "outputs": [],
   "source": [
    "(Bydefault(Comparisons:- O(n^2))) (Swapping:- O(n))\n",
    "def selectionsort(arr):\n",
    "    n = len(arr) - O(1)\n",
    "    for i in range(n-1):\n",
    "        pos = i - O(1)\n",
    "        for j in range(i+1, n): \n",
    "            if arr[j]< arr[pos]: - O(1)\n",
    "                pos = j - O(1)\n",
    "                \n",
    "        temp = arr[pos] - O(1)\n",
    "        arr[pos] = arr[i] - O(1)\n",
    "        arr[i] = temp - O(1)\n",
    "        \n",
    "    return arr\n",
    "            \n",
    "    "
   ]
  },
  {
   "cell_type": "code",
   "execution_count": 10,
   "id": "elder-fever",
   "metadata": {},
   "outputs": [
    {
     "name": "stdout",
     "output_type": "stream",
     "text": [
      "[11, 17, 18, 23, 27]\n"
     ]
    }
   ],
   "source": [
    "a = [23,27,17,18,11]\n",
    "print(selectionsort(a))"
   ]
  },
  {
   "cell_type": "code",
   "execution_count": 12,
   "id": "studied-advertiser",
   "metadata": {},
   "outputs": [
    {
     "data": {
      "text/plain": [
       "34"
      ]
     },
     "execution_count": 12,
     "metadata": {},
     "output_type": "execute_result"
    }
   ],
   "source": [
    "23\n",
    "56\n",
    "112\n",
    "34"
   ]
  },
  {
   "cell_type": "code",
   "execution_count": null,
   "id": "scientific-produce",
   "metadata": {},
   "outputs": [],
   "source": [
    "l = []\n",
    "try:\n",
    "    while True:\n",
    "        a = int(input())\n",
    "        l.append(a)    \n",
    "except EOFError(e):\n",
    "    pass"
   ]
  },
  {
   "cell_type": "code",
   "execution_count": 1,
   "id": "civil-death",
   "metadata": {},
   "outputs": [
    {
     "name": "stdout",
     "output_type": "stream",
     "text": [
      "\n"
     ]
    },
    {
     "ename": "ValueError",
     "evalue": "invalid literal for int() with base 10: ''",
     "output_type": "error",
     "traceback": [
      "\u001b[0;31m---------------------------------------------------------------------------\u001b[0m",
      "\u001b[0;31mValueError\u001b[0m                                Traceback (most recent call last)",
      "\u001b[0;32m<ipython-input-1-82cbe9f1a00c>\u001b[0m in \u001b[0;36m<module>\u001b[0;34m\u001b[0m\n\u001b[1;32m      1\u001b[0m \u001b[0;32mwhile\u001b[0m \u001b[0;32mTrue\u001b[0m\u001b[0;34m:\u001b[0m\u001b[0;34m\u001b[0m\u001b[0;34m\u001b[0m\u001b[0m\n\u001b[0;32m----> 2\u001b[0;31m     \u001b[0ma\u001b[0m \u001b[0;34m=\u001b[0m \u001b[0mint\u001b[0m\u001b[0;34m(\u001b[0m\u001b[0minput\u001b[0m\u001b[0;34m(\u001b[0m\u001b[0;34m)\u001b[0m\u001b[0;34m)\u001b[0m\u001b[0;34m\u001b[0m\u001b[0;34m\u001b[0m\u001b[0m\n\u001b[0m",
      "\u001b[0;31mValueError\u001b[0m: invalid literal for int() with base 10: ''"
     ]
    }
   ],
   "source": [
    "while True:\n",
    "    a = int(input())"
   ]
  },
  {
   "cell_type": "code",
   "execution_count": null,
   "id": "least-mixture",
   "metadata": {},
   "outputs": [],
   "source": [
    "normal, map, for, \n",
    "4653\n",
    "34\n",
    "34\n",
    "34\n",
    "stop\n"
   ]
  },
  {
   "cell_type": "code",
   "execution_count": null,
   "id": "ordered-network",
   "metadata": {},
   "outputs": [],
   "source": [
    "for --> c = 17\n",
    "for -->"
   ]
  },
  {
   "cell_type": "markdown",
   "id": "original-laundry",
   "metadata": {},
   "source": [
    "# Insertion Sort"
   ]
  },
  {
   "cell_type": "code",
   "execution_count": null,
   "id": "velvet-transformation",
   "metadata": {},
   "outputs": [],
   "source": [
    "23 19 17 18 11 --> 17 19 23 18 11 --> 17 19 23 23 11 --> 17 19 19 23 11 --> 17 18 19 23 11 --> 17 18 19 23 23"
   ]
  },
  {
   "cell_type": "code",
   "execution_count": null,
   "id": "dynamic-amount",
   "metadata": {},
   "outputs": [],
   "source": [
    "17 17 18 19 23 --> 11 17 18 19 23"
   ]
  },
  {
   "cell_type": "code",
   "execution_count": null,
   "id": "fixed-safety",
   "metadata": {},
   "outputs": [],
   "source": [
    "23 11 56 19 --> 11 23 56 19 "
   ]
  },
  {
   "cell_type": "code",
   "execution_count": null,
   "id": "instrumental-combining",
   "metadata": {},
   "outputs": [],
   "source": [
    "[35] "
   ]
  },
  {
   "cell_type": "code",
   "execution_count": null,
   "id": "freelance-place",
   "metadata": {},
   "outputs": [],
   "source": [
    "8 4 9 3 11 --> 4 8 9 3 11 --> 4 8 9 3 11 -->  4 8 9 9 11 --> 4 8 8 9 11 --> 4 4 8 9 11 --> 3 4 8 9 11"
   ]
  },
  {
   "cell_type": "code",
   "execution_count": null,
   "id": "convenient-analyst",
   "metadata": {},
   "outputs": [],
   "source": [
    "17 11 4 3 2 --> 17 17 4 3 19 --> 11 17 4 3 19 --> 11 17 17 3 19 --> "
   ]
  },
  {
   "cell_type": "code",
   "execution_count": null,
   "id": "outstanding-dairy",
   "metadata": {},
   "outputs": [],
   "source": [
    "c = 4"
   ]
  },
  {
   "cell_type": "code",
   "execution_count": null,
   "id": "seasonal-failure",
   "metadata": {},
   "outputs": [],
   "source": [
    "for-->(1, size)\n",
    "    cvalue = arr[i]\n",
    "    pos = i\n",
    "    while ( pos>0 and arr[pos-1] > cvalue )\n",
    "        arr[pos] = arr[pos-1]\n",
    "        pos -= 1\n",
    "    \n",
    "    arr[pos] = cvalue\n",
    "(stable) --  (Bydefault(Comparisons:- O(n^2))) (Swapping:- O(n^2))\n"
   ]
  },
  {
   "cell_type": "code",
   "execution_count": 1,
   "id": "illegal-junior",
   "metadata": {},
   "outputs": [],
   "source": [
    "def insertionsort(arr):\n",
    "    n = len(arr)\n",
    "    for i in range(1, n):\n",
    "        cvalue = arr[i]\n",
    "        pos = i\n",
    "        while pos>0 and arr[pos-1]>cvalue:\n",
    "            arr[pos] = arr[pos-1]\n",
    "            pos -= 1\n",
    "            \n",
    "        arr[pos] = cvalue\n",
    "    return arr"
   ]
  },
  {
   "cell_type": "code",
   "execution_count": 2,
   "id": "fatty-yukon",
   "metadata": {},
   "outputs": [
    {
     "name": "stdout",
     "output_type": "stream",
     "text": [
      "[11, 17, 18, 23, 27]\n"
     ]
    }
   ],
   "source": [
    "a = [23,27,17,18,11]\n",
    "print(insertionsort(a))"
   ]
  },
  {
   "cell_type": "code",
   "execution_count": null,
   "id": "collectible-conspiracy",
   "metadata": {},
   "outputs": [],
   "source": [
    "23 19 17 18"
   ]
  },
  {
   "cell_type": "code",
   "execution_count": null,
   "id": "lightweight-blanket",
   "metadata": {},
   "outputs": [],
   "source": [
    "19 23 17 18 --> 19 17 23 18 --> 19 17 18 23"
   ]
  },
  {
   "cell_type": "code",
   "execution_count": 4,
   "id": "biological-things",
   "metadata": {},
   "outputs": [],
   "source": [
    "17 19 18 23 --> 17 18 19 23"
   ]
  },
  {
   "cell_type": "code",
   "execution_count": null,
   "id": "commercial-bench",
   "metadata": {},
   "outputs": [],
   "source": []
  },
  {
   "cell_type": "code",
   "execution_count": 11,
   "id": "failing-guyana",
   "metadata": {},
   "outputs": [],
   "source": [
    "def bubblesort(arr):\n",
    "    n = len(arr)\n",
    "    for i in range(n-1,0,-1):\n",
    "        for j in range(0,i):\n",
    "            if arr[j] > arr[j+1]:\n",
    "                arr[j],arr[j+1] = arr[j+1], arr[j]\n",
    "    \n",
    "    return arr"
   ]
  },
  {
   "cell_type": "code",
   "execution_count": 12,
   "id": "ongoing-sheriff",
   "metadata": {},
   "outputs": [
    {
     "name": "stdout",
     "output_type": "stream",
     "text": [
      "[11, 17, 18, 23, 27]\n"
     ]
    }
   ],
   "source": [
    "a = [23,27,17,18,11]\n",
    "print(bubblesort(a))"
   ]
  },
  {
   "cell_type": "code",
   "execution_count": null,
   "id": "federal-sharp",
   "metadata": {},
   "outputs": [],
   "source": []
  },
  {
   "cell_type": "markdown",
   "id": "sixth-final",
   "metadata": {},
   "source": [
    "# Linked List"
   ]
  },
  {
   "cell_type": "code",
   "execution_count": 1,
   "id": "willing-croatia",
   "metadata": {},
   "outputs": [],
   "source": [
    "# Array --> sequential memory or contigous, similar"
   ]
  },
  {
   "cell_type": "code",
   "execution_count": 3,
   "id": "native-capitol",
   "metadata": {},
   "outputs": [],
   "source": [
    "#Array() --> linked list, Python--> Unused data automatically deleted built"
   ]
  },
  {
   "cell_type": "markdown",
   "id": "thousand-advisory",
   "metadata": {},
   "source": [
    "Built-in sequence classes:\n",
    "- list (mutable)\n",
    "- tuple (immutable)\n",
    "- string\n"
   ]
  },
  {
   "cell_type": "code",
   "execution_count": 4,
   "id": "engaged-disclaimer",
   "metadata": {},
   "outputs": [
    {
     "ename": "SyntaxError",
     "evalue": "invalid syntax (<ipython-input-4-f07fd1ee78ab>, line 4)",
     "output_type": "error",
     "traceback": [
      "\u001b[0;36m  File \u001b[0;32m\"<ipython-input-4-f07fd1ee78ab>\"\u001b[0;36m, line \u001b[0;32m4\u001b[0m\n\u001b[0;31m    _element =\u001b[0m\n\u001b[0m               ^\u001b[0m\n\u001b[0;31mSyntaxError\u001b[0m\u001b[0;31m:\u001b[0m invalid syntax\n"
     ]
    }
   ],
   "source": [
    "# class variable , instance variable\n",
    "class _Node:\n",
    "    \n",
    "    _element = "
   ]
  },
  {
   "cell_type": "code",
   "execution_count": 106,
   "id": "phantom-cabin",
   "metadata": {},
   "outputs": [],
   "source": [
    "class Camel:\n",
    "    age = 20\n",
    "    def __init__(self, name):\n",
    "        self.name = name\n",
    "    \n",
    "    def myname(self): #dunder\n",
    "        print(\"My name is\", self.name)\n",
    "    \n",
    "    def __len__(self):\n",
    "        return 0"
   ]
  },
  {
   "cell_type": "code",
   "execution_count": 107,
   "id": "dated-pattern",
   "metadata": {},
   "outputs": [],
   "source": [
    "C1 = Camel(\"Kanwar\")\n",
    "C2 = Camel(\"Akash\")"
   ]
  },
  {
   "cell_type": "code",
   "execution_count": 63,
   "id": "nearby-headquarters",
   "metadata": {},
   "outputs": [
    {
     "name": "stdout",
     "output_type": "stream",
     "text": [
      "My name is Kanwar\n",
      "My name is Akash\n"
     ]
    }
   ],
   "source": [
    "C1.myname()\n",
    "C2.myname()"
   ]
  },
  {
   "cell_type": "code",
   "execution_count": 64,
   "id": "occupied-practitioner",
   "metadata": {},
   "outputs": [
    {
     "data": {
      "text/plain": [
       "20"
      ]
     },
     "execution_count": 64,
     "metadata": {},
     "output_type": "execute_result"
    }
   ],
   "source": [
    "C1.age"
   ]
  },
  {
   "cell_type": "code",
   "execution_count": 65,
   "id": "fuzzy-improvement",
   "metadata": {},
   "outputs": [
    {
     "data": {
      "text/plain": [
       "20"
      ]
     },
     "execution_count": 65,
     "metadata": {},
     "output_type": "execute_result"
    }
   ],
   "source": [
    "C2.age"
   ]
  },
  {
   "cell_type": "code",
   "execution_count": 66,
   "id": "applied-tourist",
   "metadata": {},
   "outputs": [],
   "source": [
    "# instance ---> particular object"
   ]
  },
  {
   "cell_type": "code",
   "execution_count": 67,
   "id": "decent-burns",
   "metadata": {},
   "outputs": [
    {
     "data": {
      "text/plain": [
       "mappingproxy({'__module__': '__main__',\n",
       "              'age': 20,\n",
       "              '__init__': <function __main__.Camel.__init__(self, name)>,\n",
       "              'myname': <function __main__.Camel.myname(self)>,\n",
       "              '__dict__': <attribute '__dict__' of 'Camel' objects>,\n",
       "              '__weakref__': <attribute '__weakref__' of 'Camel' objects>,\n",
       "              '__doc__': None})"
      ]
     },
     "execution_count": 67,
     "metadata": {},
     "output_type": "execute_result"
    }
   ],
   "source": [
    "Camel.__dict__"
   ]
  },
  {
   "cell_type": "code",
   "execution_count": 68,
   "id": "internal-notion",
   "metadata": {},
   "outputs": [
    {
     "data": {
      "text/plain": [
       "{'name': 'Kanwar'}"
      ]
     },
     "execution_count": 68,
     "metadata": {},
     "output_type": "execute_result"
    }
   ],
   "source": [
    "C1.__dict__"
   ]
  },
  {
   "cell_type": "code",
   "execution_count": 69,
   "id": "everyday-nitrogen",
   "metadata": {},
   "outputs": [],
   "source": [
    "def arr(a,b):\n",
    "    print(a+b)"
   ]
  },
  {
   "cell_type": "code",
   "execution_count": 70,
   "id": "recreational-segment",
   "metadata": {},
   "outputs": [
    {
     "ename": "TypeError",
     "evalue": "arr() missing 1 required positional argument: 'b'",
     "output_type": "error",
     "traceback": [
      "\u001b[0;31m---------------------------------------------------------------------------\u001b[0m",
      "\u001b[0;31mTypeError\u001b[0m                                 Traceback (most recent call last)",
      "\u001b[0;32m<ipython-input-70-f7cde730417e>\u001b[0m in \u001b[0;36m<module>\u001b[0;34m\u001b[0m\n\u001b[0;32m----> 1\u001b[0;31m \u001b[0marr\u001b[0m\u001b[0;34m(\u001b[0m\u001b[0;36m10\u001b[0m\u001b[0;34m)\u001b[0m\u001b[0;34m\u001b[0m\u001b[0;34m\u001b[0m\u001b[0m\n\u001b[0m",
      "\u001b[0;31mTypeError\u001b[0m: arr() missing 1 required positional argument: 'b'"
     ]
    }
   ],
   "source": [
    "arr(10)"
   ]
  },
  {
   "cell_type": "code",
   "execution_count": 83,
   "id": "unexpected-surname",
   "metadata": {},
   "outputs": [
    {
     "name": "stdout",
     "output_type": "stream",
     "text": [
      "My name is Akash\n"
     ]
    }
   ],
   "source": [
    "Camel.myname(C2)"
   ]
  },
  {
   "cell_type": "code",
   "execution_count": 76,
   "id": "specified-celebration",
   "metadata": {},
   "outputs": [
    {
     "data": {
      "text/plain": [
       "'Kanwar'"
      ]
     },
     "execution_count": 76,
     "metadata": {},
     "output_type": "execute_result"
    }
   ],
   "source": [
    "C1.name"
   ]
  },
  {
   "cell_type": "code",
   "execution_count": 78,
   "id": "formed-america",
   "metadata": {},
   "outputs": [],
   "source": [
    "def area(l,b):\n",
    "    print(l*b)"
   ]
  },
  {
   "cell_type": "code",
   "execution_count": 80,
   "id": "universal-mistake",
   "metadata": {},
   "outputs": [
    {
     "ename": "TypeError",
     "evalue": "area() missing 1 required positional argument: 'b'",
     "output_type": "error",
     "traceback": [
      "\u001b[0;31m---------------------------------------------------------------------------\u001b[0m",
      "\u001b[0;31mTypeError\u001b[0m                                 Traceback (most recent call last)",
      "\u001b[0;32m<ipython-input-80-fb47834b79ac>\u001b[0m in \u001b[0;36m<module>\u001b[0;34m\u001b[0m\n\u001b[0;32m----> 1\u001b[0;31m \u001b[0marea\u001b[0m\u001b[0;34m(\u001b[0m\u001b[0;36m10\u001b[0m\u001b[0;34m)\u001b[0m\u001b[0;34m\u001b[0m\u001b[0;34m\u001b[0m\u001b[0m\n\u001b[0m",
      "\u001b[0;31mTypeError\u001b[0m: area() missing 1 required positional argument: 'b'"
     ]
    }
   ],
   "source": [
    "area(10)"
   ]
  },
  {
   "cell_type": "code",
   "execution_count": 2,
   "id": "turned-tulsa",
   "metadata": {},
   "outputs": [],
   "source": [
    "class _Node:\n",
    "    \n",
    "    __slots__ = '_element', '_next'\n",
    "    \n",
    "    def __init__(self, ele, nxt):\n",
    "        \n",
    "        self._element = ele\n",
    "        self._next = nxt\n",
    "        \n",
    "class SLinkedList:\n",
    "    \n",
    "    def __init__(self):\n",
    "        \n",
    "        self._head = None\n",
    "        self._size = 0\n",
    "        self._tail = None\n",
    "    \n",
    "    def __len__(self):\n",
    "        return self._size\n",
    "    \n",
    "    def isempty(self):\n",
    "        return self._size == 0\n",
    "    \n",
    "    def addlast(self, e):\n",
    "        n = _Node(e, None)\n",
    "        \n",
    "        if self.isempty():\n",
    "            self._head = n\n",
    "        else:\n",
    "            self._tail._next = n\n",
    "\n",
    "        self._tail = n\n",
    "        self._size += 1\n",
    "        \n",
    "    def removelast(self):\n",
    "        if self.isempty():\n",
    "            print(\"Linked List is empty\")\n",
    "            return\n",
    "        p = self._head\n",
    "        i = 1\n",
    "        while i < len(self)-1:\n",
    "            p = p._next\n",
    "            i += 1\n",
    "        self._tail = p\n",
    "        p = p._next\n",
    "        e = p._element\n",
    "        self._tail._next = None\n",
    "        self._size -= 1\n",
    "        return e\n",
    "    \n",
    "    def addfirst(self, e):\n",
    "        n = _Node(e, None)\n",
    "        \n",
    "        if self.isempty():\n",
    "            self._tail = n\n",
    "        else:\n",
    "            n._next = self._head\n",
    "        \n",
    "        self._head = n\n",
    "        self._size += 1\n",
    "        \n",
    "    def removefirst(self):\n",
    "        if self.isempty():\n",
    "            print(\"List is empty\")\n",
    "            return\n",
    "        e = self._head._element\n",
    "        self._head = self._head._next\n",
    "        self._size -= 1\n",
    "        if self.isempty():\n",
    "            self._tail = None\n",
    "        return e\n",
    "    \n",
    "    def addany(self, e, pos):\n",
    "        n = _Node(e, None)\n",
    "        p = self._head\n",
    "        i = 1\n",
    "        while i < pos-1:\n",
    "            p = p._next\n",
    "            i += 1\n",
    "        n._next = p._next\n",
    "        p._next = n\n",
    "        self._size += 1\n",
    "        \n",
    "    def removeany(self, pos):\n",
    "        \n",
    "    \n",
    "    def display(self):\n",
    "        p = self._head\n",
    "        while p:\n",
    "            print(p._element, end=\"-->\")\n",
    "            p = p._next\n",
    "        print()\n",
    "    \n",
    "    \n",
    "    def search(self, key):\n",
    "        p = self._head\n",
    "        index = 0\n",
    "        while p:\n",
    "            if p._element == key:\n",
    "                return index\n",
    "            p = p._next\n",
    "            index += 1\n",
    "        return -1\n",
    "        "
   ]
  },
  {
   "cell_type": "code",
   "execution_count": 3,
   "id": "isolated-canon",
   "metadata": {},
   "outputs": [
    {
     "name": "stdout",
     "output_type": "stream",
     "text": [
      "10-->20-->40-->69-->\n",
      "10-->20-->40-->69-->100-->\n",
      "100\n",
      "10-->20-->40-->69-->\n",
      "3\n",
      "21-->10-->20-->40-->69-->\n",
      "21\n",
      "10-->20-->40-->69-->\n"
     ]
    }
   ],
   "source": [
    "LL = SLinkedList()\n",
    "LL.addlast(10)\n",
    "LL.addlast(20)\n",
    "LL.addlast(40)\n",
    "LL.addlast(69)\n",
    "LL.display()\n",
    "LL.addlast(100)\n",
    "LL.display()\n",
    "print(LL.removelast())\n",
    "LL.display()\n",
    "print(LL.search(69))\n",
    "LL.addfirst(21)\n",
    "LL.display()\n",
    "print(LL.removefirst())\n",
    "LL.display()"
   ]
  },
  {
   "cell_type": "code",
   "execution_count": 112,
   "id": "presidential-charger",
   "metadata": {},
   "outputs": [
    {
     "data": {
      "text/plain": [
       "10"
      ]
     },
     "execution_count": 112,
     "metadata": {},
     "output_type": "execute_result"
    }
   ],
   "source": [
    "New._element"
   ]
  },
  {
   "cell_type": "code",
   "execution_count": 89,
   "id": "champion-federal",
   "metadata": {},
   "outputs": [],
   "source": [
    "New._next = New2"
   ]
  },
  {
   "cell_type": "code",
   "execution_count": 92,
   "id": "practical-planner",
   "metadata": {},
   "outputs": [
    {
     "data": {
      "text/plain": [
       "140641296095184"
      ]
     },
     "execution_count": 92,
     "metadata": {},
     "output_type": "execute_result"
    }
   ],
   "source": [
    "id(New._next)"
   ]
  },
  {
   "cell_type": "code",
   "execution_count": 93,
   "id": "integral-specialist",
   "metadata": {},
   "outputs": [
    {
     "data": {
      "text/plain": [
       "140641296095184"
      ]
     },
     "execution_count": 93,
     "metadata": {},
     "output_type": "execute_result"
    }
   ],
   "source": [
    "id(New2)"
   ]
  },
  {
   "cell_type": "code",
   "execution_count": 108,
   "id": "british-thing",
   "metadata": {},
   "outputs": [
    {
     "data": {
      "text/plain": [
       "0"
      ]
     },
     "execution_count": 108,
     "metadata": {},
     "output_type": "execute_result"
    }
   ],
   "source": [
    "len(C1)"
   ]
  },
  {
   "cell_type": "code",
   "execution_count": null,
   "id": "biological-universal",
   "metadata": {},
   "outputs": [],
   "source": [
    "LL = SLinkedList()\n"
   ]
  },
  {
   "cell_type": "markdown",
   "id": "indoor-rally",
   "metadata": {},
   "source": [
    "# Doubly Linked List"
   ]
  },
  {
   "cell_type": "code",
   "execution_count": 7,
   "id": "great-ministry",
   "metadata": {},
   "outputs": [],
   "source": [
    "class _Node:\n",
    "    \n",
    "    __slots__ = '_element', '_prev', '_next'\n",
    "    def __init__(self, element, nxt, prev):\n",
    "        self._element = element\n",
    "        self._next = nxt\n",
    "        self._prev = prev\n",
    "        \n",
    "class DLinkedList:\n",
    "    \n",
    "    def __init__(self):\n",
    "        \n",
    "        self._head = None\n",
    "        self._tail = None\n",
    "        self._size = 0\n",
    "        \n",
    "    def __len__(self):\n",
    "        return self._size\n",
    "    \n",
    "    def isempty(self):\n",
    "        return self._size == 0\n",
    "        \n",
    "    def addlast(self, e):\n",
    "        n = _Node(e, None, None)\n",
    "        if self.isempty():\n",
    "            self._head = n\n",
    "            self._tail = n\n",
    "        else:\n",
    "            self._tail._next = n\n",
    "            n._prev = self._tail\n",
    "            self._tail = n\n",
    "        self._size += 1\n",
    "    \n",
    "    def removelast(self):\n",
    "        if self.isempty():\n",
    "            print(\"List is empty\")\n",
    "            return\n",
    "        e = self._tail._element\n",
    "        self._tail = self._tail._prev\n",
    "        self._tail._next = None\n",
    "        self._size -= 1\n",
    "        if self.isempty():\n",
    "            self._head = None\n",
    "        return e\n",
    "    \n",
    "    def display(self):\n",
    "        p = self._head\n",
    "        while p:\n",
    "            print(p._element, end = \"-->\")\n",
    "            p = p._next\n",
    "        print()\n",
    "    \n",
    "    def addfirst(self, e):\n",
    "        n = _Node(e, None, None)\n",
    "        if self.isempty():\n",
    "            self._tail = n\n",
    "        else:\n",
    "            n._next = self._head\n",
    "            self._head._prev = n\n",
    "            \n",
    "        self._head = n\n",
    "        self._size += 1\n",
    "        \n",
    "    def removefirst(self):\n",
    "        if self.isempty():\n",
    "            print(\"List is empty\")\n",
    "            return\n",
    "        e = self._head._element\n",
    "        self._head = self._head._next\n",
    "        self._head._prev = None\n",
    "        self._size -= 1\n",
    "        if self.isempty():\n",
    "            self._tail = None\n",
    "        return e\n",
    "        \n",
    "    "
   ]
  },
  {
   "cell_type": "code",
   "execution_count": 8,
   "id": "imperial-packing",
   "metadata": {},
   "outputs": [],
   "source": [
    "# addany, removeany, display, search, Circular Linked List"
   ]
  },
  {
   "cell_type": "code",
   "execution_count": 12,
   "id": "union-enclosure",
   "metadata": {
    "scrolled": true
   },
   "outputs": [
    {
     "name": "stdout",
     "output_type": "stream",
     "text": [
      "30-->20-->10-->\n",
      "30\n",
      "20-->10-->\n",
      "20-->10-->50-->60-->\n",
      "60\n",
      "20-->10-->50-->\n",
      "50\n",
      "20-->10-->\n"
     ]
    }
   ],
   "source": [
    "DLL = DLinkedList()\n",
    "DLL.addfirst(10)\n",
    "DLL.addfirst(20)\n",
    "DLL.addfirst(30)\n",
    "DLL.display()\n",
    "print(DLL.removefirst())\n",
    "DLL.display()\n",
    "DLL.addlast(50)\n",
    "DLL.addlast(60)\n",
    "DLL.display()\n",
    "print(DLL.removelast())\n",
    "DLL.display()\n",
    "print(DLL.removelast())\n",
    "DLL.display()"
   ]
  },
  {
   "cell_type": "code",
   "execution_count": null,
   "id": "sensitive-hearts",
   "metadata": {},
   "outputs": [],
   "source": []
  }
 ],
 "metadata": {
  "kernelspec": {
   "display_name": "Python 3",
   "language": "python",
   "name": "python3"
  },
  "language_info": {
   "codemirror_mode": {
    "name": "ipython",
    "version": 3
   },
   "file_extension": ".py",
   "mimetype": "text/x-python",
   "name": "python",
   "nbconvert_exporter": "python",
   "pygments_lexer": "ipython3",
   "version": "3.7.4"
  }
 },
 "nbformat": 4,
 "nbformat_minor": 5
}
